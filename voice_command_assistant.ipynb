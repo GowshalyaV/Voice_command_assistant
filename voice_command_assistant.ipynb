{
 "cells": [
  {
   "cell_type": "code",
   "execution_count": 1,
   "id": "44842886-4abb-4b4f-9316-7a041ce30a79",
   "metadata": {},
   "outputs": [],
   "source": [
    "import speech_recognition as sr\n",
    "import pyttsx3\n",
    "import webbrowser\n",
    "from youtube_search import YoutubeSearch"
   ]
  },
  {
   "cell_type": "code",
   "execution_count": 2,
   "id": "d05de95e-8590-478e-aad4-3f264d05d5c8",
   "metadata": {},
   "outputs": [],
   "source": [
    "def SpeakNow(command, language=\"en-US\"):\n",
    "    voice = pyttsx3.init()\n",
    "    voice.say(command)\n",
    "    voice.runAndWait()"
   ]
  },
  {
   "cell_type": "code",
   "execution_count": 3,
   "id": "f4fe3191-3a85-4988-a49c-4a156085ad5c",
   "metadata": {},
   "outputs": [
    {
     "name": "stdout",
     "output_type": "stream",
     "text": [
      "Hello, how can i help you?\n",
      "You have asked to play the song believer\n"
     ]
    }
   ],
   "source": [
    "def open_browser():\n",
    "    webbrowser.open_new_tab(\"https://www.google.com\")\n",
    "\n",
    "def open_youtube():\n",
    "    webbrowser.open_new_tab(\"https://www.youtube.com\")\n",
    "\n",
    "def search_google(query):\n",
    "    url = f\"https://www.google.com/search?q={query}\"\n",
    "    webbrowser.open_new_tab(url)\n",
    "\n",
    "def play_song(song_name):\n",
    "    results = YoutubeSearch(song_name, max_results=1).to_dict()\n",
    "    if results:\n",
    "        video_url = f\"https://www.youtube.com{results[0]['url_suffix']}\"\n",
    "        webbrowser.open_new_tab(video_url)\n",
    "    else:\n",
    "        print(\"No videos found for the song.\")\n",
    "\n",
    "# Commands and their corresponding functions\n",
    "commands = {\n",
    "    \"open browser\": open_browser,\n",
    "    \"open youtube\": open_youtube,\n",
    "}\n",
    "\n",
    "# Function to handle extended commands\n",
    "def handle_extended_command(command):\n",
    "    if \"search for\" in command:\n",
    "        query = command.replace(\"search for\", \"\").strip()\n",
    "        search_google(query)\n",
    "    elif \"play\" in command:\n",
    "        song_name = command.replace(\"play\", \"\").strip()\n",
    "        play_song(song_name)\n",
    "    else:\n",
    "        print(\"Extended command not recognized.\")\n",
    "\n",
    "# Recognizer instance\n",
    "recognizer = sr.Recognizer()\n",
    "\n",
    "message = \"Hello, how can i help you?\"\n",
    "\n",
    "with sr.Microphone() as source2:\n",
    "    # Speak and show the message \"Hello, how can i help you?\"\n",
    "    print(message)\n",
    "    SpeakNow(message, language=\"en-US\")\n",
    "    \n",
    "    recognizer.adjust_for_ambient_noise(source2, duration=0.2)\n",
    "    \n",
    "    audio2 = recognizer.listen(source2)\n",
    "\n",
    "    try:\n",
    "        # Recognize speech\n",
    "        command = recognizer.recognize_google(audio2, language=\"en-US\").lower()\n",
    "        print(\"You have asked to\", command)\n",
    "        \n",
    "        # Execute base command if recognized\n",
    "        if command in commands:\n",
    "            commands[command]()\n",
    "        else:\n",
    "            # Handle extended commands\n",
    "            handle_extended_command(command)\n",
    "        \n",
    "    except sr.UnknownValueError:\n",
    "        print(\"Sorry, I could not understand the speech.\")\n",
    "    \n",
    "    except sr.RequestError as e:\n",
    "        print(f\"RequestError: {e}\")\n",
    "    \n",
    "    except sr.WaitTimeoutError:\n",
    "        print(\"Speech recognition timed out. No speech detected.\")"
   ]
  },
  {
   "cell_type": "code",
   "execution_count": null,
   "id": "bcaa6eef-6d92-4278-b4d1-cb6f9f2a3994",
   "metadata": {},
   "outputs": [],
   "source": []
  }
 ],
 "metadata": {
  "kernelspec": {
   "display_name": "Python 3 (ipykernel)",
   "language": "python",
   "name": "python3"
  },
  "language_info": {
   "codemirror_mode": {
    "name": "ipython",
    "version": 3
   },
   "file_extension": ".py",
   "mimetype": "text/x-python",
   "name": "python",
   "nbconvert_exporter": "python",
   "pygments_lexer": "ipython3",
   "version": "3.11.7"
  }
 },
 "nbformat": 4,
 "nbformat_minor": 5
}
